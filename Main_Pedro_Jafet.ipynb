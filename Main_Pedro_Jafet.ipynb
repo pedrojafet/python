{
 "cells": [
  {
   "cell_type": "code",
   "execution_count": 1,
   "metadata": {},
   "outputs": [
    {
     "name": "stdout",
     "output_type": "stream",
     "text": [
      "[1, 0, 0, 1, 0]\n",
      "[0, 1, 0, 0, 0]\n",
      "[1, 0, 0, 1, 0]\n",
      "[1, 0, 0, 1, 0]\n",
      "[1, 1, 1, 0, 1]\n",
      "Existem 6 rios dispostos assim:[1, 1, 1, 1, 2, 5]\n",
      "Existem 3 ilhas dispostas assim:[1, 1, 12]\n"
     ]
    }
   ],
   "source": [
    "from random import randint # Para criar a Matriz\n",
    "import copy # Para clonar a Matriz\n",
    "\n",
    "def target(linha, coluna, extensao = 0):\n",
    "  if matriz[linha][coluna] == alvo:\n",
    "    matriz[linha][coluna] = \"*\"\n",
    "    extensao += 1\n",
    "    extensao = caminho(linha, coluna, extensao)\n",
    "  return extensao\n",
    "\n",
    "def caminho(linha,coluna,tamanho_alvo):\n",
    "  tamanho_alvo = target(linha - (linha > 0), coluna, tamanho_alvo)\n",
    "  tamanho_alvo = target(linha + (linha < num_linhas - 1), coluna, tamanho_alvo)\n",
    "  tamanho_alvo = target(linha, coluna - (coluna > 0), tamanho_alvo)\n",
    "  tamanho_alvo = target(linha, coluna + (coluna < num_colunas - 1), tamanho_alvo)\n",
    "  return tamanho_alvo\n",
    "\n",
    "def ache_o_alvo(matriz, alvo):\n",
    "  if len(matriz) > 0:\n",
    "    for i in range(0, len(matriz)):\n",
    "      if 1 in (matriz[i]):\n",
    "        for j in range(0, len(matriz[i])):\n",
    "          if matriz[i][j] == alvo:\n",
    "            retorno = target(i,j)\n",
    "            result.append(retorno)\n",
    "  result.sort()\n",
    "  quant = len(result)\n",
    "  print (f'Existem {quant} {\"rios dispostos\" * alvo}{\"ilhas dispostas\" * (alvo == 0)} assim:{result}')\n",
    "\n",
    "n = 1\n",
    "while n <= 1:\n",
    "  n = int(input (\"Entre a dimensão da matriz n²:\"))\n",
    "matriz = [[randint(0, 1) for _ in range(0, n)] for _ in range(0, n)] # Gera a Matriz n²\n",
    "for row in matriz: # Preview da Matriz\n",
    "    print(row)\n",
    "\n",
    "num_linhas = len(matriz)\n",
    "num_colunas = len(matriz[0])\n",
    "already_checked_i = []\n",
    "result = []\n",
    "alvo = 1 # Busca Água (1)\n",
    "matriz_2 = copy.deepcopy(matriz) # Força a clonagem da lista\n",
    "ache_o_alvo(matriz, alvo)\n",
    "\n",
    "matriz = matriz_2 # Retorna a lista \n",
    "already_checked_i = [] # Zera\n",
    "result = [] # Zera\n",
    "alvo = 0 # Busca Terra (0)\n",
    "ache_o_alvo(matriz, alvo)\n"
   ]
  }
 ],
 "metadata": {
  "interpreter": {
   "hash": "9f27538263f2b06562ba4c3e17832466b72ccd68c529f4ccd732119dafa958f1"
  },
  "kernelspec": {
   "display_name": "Python 3.10.1 64-bit",
   "language": "python",
   "name": "python3"
  },
  "language_info": {
   "codemirror_mode": {
    "name": "ipython",
    "version": 3
   },
   "file_extension": ".py",
   "mimetype": "text/x-python",
   "name": "python",
   "nbconvert_exporter": "python",
   "pygments_lexer": "ipython3",
   "version": "3.10.1"
  },
  "orig_nbformat": 4
 },
 "nbformat": 4,
 "nbformat_minor": 2
}
